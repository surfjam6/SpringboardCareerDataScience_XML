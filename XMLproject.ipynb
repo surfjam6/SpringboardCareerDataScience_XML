{
 "cells": [
  {
   "cell_type": "markdown",
   "metadata": {},
   "source": [
    "# XML example and exercise\n",
    "****\n",
    "+ study examples of accessing nodes in XML tree structure  \n",
    "+ work on exercise to be completed and submitted\n",
    "****\n",
    "+ reference: https://docs.python.org/2.7/library/xml.etree.elementtree.html\n",
    "+ data source: http://www.dbis.informatik.uni-goettingen.de/Mondial\n",
    "****"
   ]
  },
  {
   "cell_type": "markdown",
   "metadata": {},
   "source": [
    "****\n",
    "## XML exercise\n",
    "\n",
    "Using data in 'data/mondial_database.xml', the examples above, and refering to https://docs.python.org/2.7/library/xml.etree.elementtree.html, find\n",
    "\n",
    "1. 10 countries with the lowest infant mortality rates\n",
    "2. 10 cities with the largest population\n",
    "3. 10 ethnic groups with the largest overall populations (sum of best/latest estimates over all countries)\n",
    "4. name and country of a) longest river, b) largest lake and c) airport at highest elevation"
   ]
  },
  {
   "cell_type": "code",
   "execution_count": 520,
   "metadata": {
    "collapsed": true
   },
   "outputs": [],
   "source": [
    "from xml.etree import ElementTree as ET\n",
    "import pandas as pd\n",
    "import numpy as np\n",
    "\n",
    "#Edit XML_FILE to contain your path:\n",
    "#XML_FILE='./mondial_database.xml'\n",
    "XML_FILE='C:\\SpringboardMay2017\\LESSONS\\data_wrangling_xml\\data_wrangling_xml/data/mondial_database.xml'\n",
    "document_tree = ET.parse(XML_FILE)"
   ]
  },
  {
   "cell_type": "markdown",
   "metadata": {},
   "source": [
    "# 10 countries with the lowest infant mortality rates\n"
   ]
  },
  {
   "cell_type": "code",
   "execution_count": 521,
   "metadata": {
    "collapsed": true
   },
   "outputs": [],
   "source": [
    "country_dict={}"
   ]
  },
  {
   "cell_type": "code",
   "execution_count": 522,
   "metadata": {
    "scrolled": true
   },
   "outputs": [
    {
     "data": {
      "text/html": [
       "<div>\n",
       "<style>\n",
       "    .dataframe thead tr:only-child th {\n",
       "        text-align: right;\n",
       "    }\n",
       "\n",
       "    .dataframe thead th {\n",
       "        text-align: left;\n",
       "    }\n",
       "\n",
       "    .dataframe tbody tr th {\n",
       "        vertical-align: top;\n",
       "    }\n",
       "</style>\n",
       "<table border=\"1\" class=\"dataframe\">\n",
       "  <thead>\n",
       "    <tr style=\"text-align: right;\">\n",
       "      <th></th>\n",
       "      <th>InfantMortalityRate</th>\n",
       "    </tr>\n",
       "    <tr>\n",
       "      <th>Country</th>\n",
       "      <th></th>\n",
       "    </tr>\n",
       "  </thead>\n",
       "  <tbody>\n",
       "    <tr>\n",
       "      <th>Monaco</th>\n",
       "      <td>1.81</td>\n",
       "    </tr>\n",
       "    <tr>\n",
       "      <th>Japan</th>\n",
       "      <td>2.13</td>\n",
       "    </tr>\n",
       "    <tr>\n",
       "      <th>Norway</th>\n",
       "      <td>2.48</td>\n",
       "    </tr>\n",
       "    <tr>\n",
       "      <th>Bermuda</th>\n",
       "      <td>2.48</td>\n",
       "    </tr>\n",
       "    <tr>\n",
       "      <th>Sweden</th>\n",
       "      <td>2.60</td>\n",
       "    </tr>\n",
       "    <tr>\n",
       "      <th>Czech Republic</th>\n",
       "      <td>2.63</td>\n",
       "    </tr>\n",
       "    <tr>\n",
       "      <th>Hong Kong</th>\n",
       "      <td>2.73</td>\n",
       "    </tr>\n",
       "    <tr>\n",
       "      <th>Macao</th>\n",
       "      <td>3.13</td>\n",
       "    </tr>\n",
       "    <tr>\n",
       "      <th>Italy</th>\n",
       "      <td>3.31</td>\n",
       "    </tr>\n",
       "    <tr>\n",
       "      <th>France</th>\n",
       "      <td>3.31</td>\n",
       "    </tr>\n",
       "  </tbody>\n",
       "</table>\n",
       "</div>"
      ],
      "text/plain": [
       "                InfantMortalityRate\n",
       "Country                            \n",
       "Monaco                         1.81\n",
       "Japan                          2.13\n",
       "Norway                         2.48\n",
       "Bermuda                        2.48\n",
       "Sweden                         2.60\n",
       "Czech Republic                 2.63\n",
       "Hong Kong                      2.73\n",
       "Macao                          3.13\n",
       "Italy                          3.31\n",
       "France                         3.31"
      ]
     },
     "execution_count": 522,
     "metadata": {},
     "output_type": "execute_result"
    }
   ],
   "source": [
    "# Iterate to find country and infant mortality rate\n",
    "for child in document_tree.getroot():\n",
    "    country = child.find('name')\n",
    "    infant_mortality = child.find('infant_mortality')\n",
    "    #Capture country and infant mortality rate in a dictionary unless \"country\" or \"infant mortality rate\" is missing.\n",
    "    if country != None:\n",
    "        if infant_mortality != None:\n",
    "            country_dict[country.text] = float(infant_mortality.text)\n",
    "        else:\n",
    "            country_dict[country.text] = np.NaN\n",
    "            \n",
    "#Load country dictionary data from dict to dataframe\n",
    "country_df = pd.DataFrame.from_dict(country_dict, orient='index')\n",
    "country_df = country_df.rename(columns={0:'InfantMortalityRate'})\n",
    "country_df.index.rename('Country',inplace=True)\n",
    "country_df.sort_values(by='InfantMortalityRate', ascending=True).head(10)\n"
   ]
  },
  {
   "cell_type": "markdown",
   "metadata": {},
   "source": [
    "# 10 cities with the largest population"
   ]
  },
  {
   "cell_type": "code",
   "execution_count": 523,
   "metadata": {},
   "outputs": [
    {
     "data": {
      "text/html": [
       "<div>\n",
       "<style>\n",
       "    .dataframe thead tr:only-child th {\n",
       "        text-align: right;\n",
       "    }\n",
       "\n",
       "    .dataframe thead th {\n",
       "        text-align: left;\n",
       "    }\n",
       "\n",
       "    .dataframe tbody tr th {\n",
       "        vertical-align: top;\n",
       "    }\n",
       "</style>\n",
       "<table border=\"1\" class=\"dataframe\">\n",
       "  <thead>\n",
       "    <tr style=\"text-align: right;\">\n",
       "      <th></th>\n",
       "      <th>Population</th>\n",
       "    </tr>\n",
       "    <tr>\n",
       "      <th>City</th>\n",
       "      <th></th>\n",
       "    </tr>\n",
       "  </thead>\n",
       "  <tbody>\n",
       "    <tr>\n",
       "      <th>Shanghai</th>\n",
       "      <td>22315474.0</td>\n",
       "    </tr>\n",
       "    <tr>\n",
       "      <th>Istanbul</th>\n",
       "      <td>13710512.0</td>\n",
       "    </tr>\n",
       "    <tr>\n",
       "      <th>Mumbai</th>\n",
       "      <td>12442373.0</td>\n",
       "    </tr>\n",
       "    <tr>\n",
       "      <th>Moskva</th>\n",
       "      <td>11979529.0</td>\n",
       "    </tr>\n",
       "    <tr>\n",
       "      <th>Beijing</th>\n",
       "      <td>11716620.0</td>\n",
       "    </tr>\n",
       "    <tr>\n",
       "      <th>São Paulo</th>\n",
       "      <td>11152344.0</td>\n",
       "    </tr>\n",
       "    <tr>\n",
       "      <th>Tianjin</th>\n",
       "      <td>11090314.0</td>\n",
       "    </tr>\n",
       "    <tr>\n",
       "      <th>Guangzhou</th>\n",
       "      <td>11071424.0</td>\n",
       "    </tr>\n",
       "    <tr>\n",
       "      <th>Delhi</th>\n",
       "      <td>11034555.0</td>\n",
       "    </tr>\n",
       "    <tr>\n",
       "      <th>Shenzhen</th>\n",
       "      <td>10358381.0</td>\n",
       "    </tr>\n",
       "  </tbody>\n",
       "</table>\n",
       "</div>"
      ],
      "text/plain": [
       "           Population\n",
       "City                 \n",
       "Shanghai   22315474.0\n",
       "Istanbul   13710512.0\n",
       "Mumbai     12442373.0\n",
       "Moskva     11979529.0\n",
       "Beijing    11716620.0\n",
       "São Paulo  11152344.0\n",
       "Tianjin    11090314.0\n",
       "Guangzhou  11071424.0\n",
       "Delhi      11034555.0\n",
       "Shenzhen   10358381.0"
      ]
     },
     "execution_count": 523,
     "metadata": {},
     "output_type": "execute_result"
    }
   ],
   "source": [
    "city_dict= {}\n",
    "for child in document_tree.iter(tag='city'):\n",
    "    city = child.find('name')\n",
    "    population = child.find('population')\n",
    "    if city != None:\n",
    "        if population != None:\n",
    "            city_dict[city.text] = int(child.findall('population')[-1].text)\n",
    "        else:\n",
    "            city_dict[city.text] = np.NaN\n",
    "            \n",
    "city_df = pd.DataFrame.from_dict(city_dict, orient='index')\n",
    "city_df = city_df.rename(columns={0:'Population'})\n",
    "city_df.index.rename('City',inplace=True)\n",
    "city_df\n",
    "city_df.sort_values(by='Population', ascending=False).head(10)"
   ]
  },
  {
   "cell_type": "markdown",
   "metadata": {},
   "source": [
    "# 10 ethnic groups with the largest overall populations (sum of best/latest estimates over all countries)"
   ]
  },
  {
   "cell_type": "code",
   "execution_count": 524,
   "metadata": {},
   "outputs": [
    {
     "data": {
      "text/html": [
       "<div>\n",
       "<style>\n",
       "    .dataframe thead tr:only-child th {\n",
       "        text-align: right;\n",
       "    }\n",
       "\n",
       "    .dataframe thead th {\n",
       "        text-align: left;\n",
       "    }\n",
       "\n",
       "    .dataframe tbody tr th {\n",
       "        vertical-align: top;\n",
       "    }\n",
       "</style>\n",
       "<table border=\"1\" class=\"dataframe\">\n",
       "  <thead>\n",
       "    <tr style=\"text-align: right;\">\n",
       "      <th></th>\n",
       "      <th>Population</th>\n",
       "    </tr>\n",
       "    <tr>\n",
       "      <th>Ethnicity</th>\n",
       "      <th></th>\n",
       "    </tr>\n",
       "  </thead>\n",
       "  <tbody>\n",
       "    <tr>\n",
       "      <th>Han Chinese</th>\n",
       "      <td>1245058800</td>\n",
       "    </tr>\n",
       "    <tr>\n",
       "      <th>Indo-Aryan</th>\n",
       "      <td>871815583</td>\n",
       "    </tr>\n",
       "    <tr>\n",
       "      <th>European</th>\n",
       "      <td>494872201</td>\n",
       "    </tr>\n",
       "    <tr>\n",
       "      <th>African</th>\n",
       "      <td>318325104</td>\n",
       "    </tr>\n",
       "    <tr>\n",
       "      <th>Dravidian</th>\n",
       "      <td>302713744</td>\n",
       "    </tr>\n",
       "    <tr>\n",
       "      <th>Mestizo</th>\n",
       "      <td>157734349</td>\n",
       "    </tr>\n",
       "    <tr>\n",
       "      <th>Bengali</th>\n",
       "      <td>146776916</td>\n",
       "    </tr>\n",
       "    <tr>\n",
       "      <th>Russian</th>\n",
       "      <td>131856989</td>\n",
       "    </tr>\n",
       "    <tr>\n",
       "      <th>Japanese</th>\n",
       "      <td>126534212</td>\n",
       "    </tr>\n",
       "    <tr>\n",
       "      <th>Malay</th>\n",
       "      <td>121993548</td>\n",
       "    </tr>\n",
       "  </tbody>\n",
       "</table>\n",
       "</div>"
      ],
      "text/plain": [
       "             Population\n",
       "Ethnicity              \n",
       "Han Chinese  1245058800\n",
       "Indo-Aryan    871815583\n",
       "European      494872201\n",
       "African       318325104\n",
       "Dravidian     302713744\n",
       "Mestizo       157734349\n",
       "Bengali       146776916\n",
       "Russian       131856989\n",
       "Japanese      126534212\n",
       "Malay         121993548"
      ]
     },
     "execution_count": 524,
     "metadata": {},
     "output_type": "execute_result"
    }
   ],
   "source": [
    "ethnicgrp_dict={}\n",
    "\n",
    "for child in document_tree.iter(tag='country'):\n",
    "    country = child.find('name')\n",
    "    population = child.findall('population')\n",
    "    ethnic_group = child.findall('ethnicgroup')\n",
    "    if country != None:\n",
    "        if population != None:\n",
    "            temp_pop = int(child.findall('population')[-1].text) #use index [-1] to pick latest population\n",
    "        else: \n",
    "            temp_pop = 0\n",
    "    for subchild in child.getiterator(tag='ethnicgroup'):  #iterate though country to find 'ethnicgroup' \n",
    "        if subchild.text in ethnicgrp_dict:\n",
    "            ethnicgrp_dict[subchild.text] += int((float(subchild.attrib['percentage'])/100.0) * temp_pop)\n",
    "        else:\n",
    "            ethnicgrp_dict[subchild.text] = int((float(subchild.attrib['percentage'])/100.0) * temp_pop)\n",
    "        \n",
    " #Convert to dataframe        \n",
    "ethnic_df = pd.DataFrame.from_dict(ethnicgrp_dict,orient = 'index')\n",
    "ethnic_df = ethnic_df.rename(columns={0:'Population'})\n",
    "ethnic_df.index.rename('Ethnicity',inplace=True)\n",
    "ethnic_df.sort_values(by='Population',ascending=False).head(10)   "
   ]
  },
  {
   "cell_type": "markdown",
   "metadata": {},
   "source": [
    "# name and country of a) longest river, b) largest lake and c) airport at highest elevation"
   ]
  },
  {
   "cell_type": "code",
   "execution_count": 533,
   "metadata": {},
   "outputs": [],
   "source": [
    "root = document_tree.getroot()\n",
    "country_dict = {}\n",
    "\n",
    "# Creates a dictionary with country code ('car code') and country name\n",
    "for child in root.iterfind('country'):\n",
    "#    print(child.attrib['car_code'],child.find('name').text)\n",
    "    country_dict[child.attrib['car_code']] = child.find('name').text"
   ]
  },
  {
   "cell_type": "markdown",
   "metadata": {},
   "source": [
    "# a) name and country of longest river:"
   ]
  },
  {
   "cell_type": "code",
   "execution_count": 526,
   "metadata": {},
   "outputs": [],
   "source": [
    "# Creates blank list\n",
    "river_list = []\n",
    "\n",
    "# Loops for rivers' names, lengths, and country codes\n",
    "for rivers in root.iterfind('river'):\n",
    "    river_name = rivers.find('name').text\n",
    "    river_length = rivers.find('length')\n",
    "    if river_length != None:\n",
    "        river_length = river_length.text\n",
    "# Rivers go though multiple countries; codes must be split\n",
    "        for river_code in rivers.attrib['country'].split():\n",
    "             river_country_code = country_dict[river_code]\n",
    "        river_list.append([river_country_code, river_code,\n",
    "                       river_name, float(river_length)])\n",
    "    \n",
    "#for each in river_list:\n",
    "#    print(each)"
   ]
  },
  {
   "cell_type": "code",
   "execution_count": 527,
   "metadata": {},
   "outputs": [],
   "source": [
    "# Creates dataframe from list\n",
    "Country_River_Columns = ['Country', 'Country Code', 'River_Name', 'River_Length']\n",
    "rivers_df = pd.DataFrame.from_records(river_list, columns=Country_River_Columns)\n"
   ]
  },
  {
   "cell_type": "code",
   "execution_count": 528,
   "metadata": {},
   "outputs": [
    {
     "data": {
      "text/html": [
       "<div>\n",
       "<style>\n",
       "    .dataframe thead tr:only-child th {\n",
       "        text-align: right;\n",
       "    }\n",
       "\n",
       "    .dataframe thead th {\n",
       "        text-align: left;\n",
       "    }\n",
       "\n",
       "    .dataframe tbody tr th {\n",
       "        vertical-align: top;\n",
       "    }\n",
       "</style>\n",
       "<table border=\"1\" class=\"dataframe\">\n",
       "  <thead>\n",
       "    <tr style=\"text-align: right;\">\n",
       "      <th></th>\n",
       "      <th>Country</th>\n",
       "      <th>Country Code</th>\n",
       "      <th>River_Name</th>\n",
       "      <th>River_Length</th>\n",
       "    </tr>\n",
       "  </thead>\n",
       "  <tbody>\n",
       "    <tr>\n",
       "      <th>174</th>\n",
       "      <td>Peru</td>\n",
       "      <td>PE</td>\n",
       "      <td>Amazonas</td>\n",
       "      <td>6448.0</td>\n",
       "    </tr>\n",
       "  </tbody>\n",
       "</table>\n",
       "</div>"
      ],
      "text/plain": [
       "    Country Country Code River_Name  River_Length\n",
       "174    Peru           PE   Amazonas        6448.0"
      ]
     },
     "execution_count": 528,
     "metadata": {},
     "output_type": "execute_result"
    }
   ],
   "source": [
    "rivers_df.sort_values('River_Length',ascending=False).head(1)"
   ]
  },
  {
   "cell_type": "markdown",
   "metadata": {},
   "source": [
    "# b) name and country of largest lake(area)"
   ]
  },
  {
   "cell_type": "code",
   "execution_count": 529,
   "metadata": {},
   "outputs": [],
   "source": [
    "# Creates blank list\n",
    "lake_list = []\n",
    "\n",
    "# Loops for lakess' names, lengths, and country codes\n",
    "for lakes in root.iterfind('lake'):\n",
    "    lake_name = lakes.find('name').text\n",
    "    lake_area = lakes.find('area')\n",
    "    lake_country = lakes.attrib['country']\n",
    "    if lake_area != None:\n",
    "        lake_area = float(lake_area.text)\n",
    "        for lake_item in lakes.attrib['country'].split():\n",
    "            lake_list.append([lake_item,country_dict[lake_item],lake_name, lake_area])\n",
    "            \n",
    "#for each in lake_list:\n",
    "#    print(each)\n",
    "#print(lake_list[0])"
   ]
  },
  {
   "cell_type": "code",
   "execution_count": 530,
   "metadata": {},
   "outputs": [
    {
     "data": {
      "text/html": [
       "<div>\n",
       "<style>\n",
       "    .dataframe thead tr:only-child th {\n",
       "        text-align: right;\n",
       "    }\n",
       "\n",
       "    .dataframe thead th {\n",
       "        text-align: left;\n",
       "    }\n",
       "\n",
       "    .dataframe tbody tr th {\n",
       "        vertical-align: top;\n",
       "    }\n",
       "</style>\n",
       "<table border=\"1\" class=\"dataframe\">\n",
       "  <thead>\n",
       "    <tr style=\"text-align: right;\">\n",
       "      <th></th>\n",
       "      <th>Country</th>\n",
       "      <th>Country Code</th>\n",
       "      <th>Lake Name</th>\n",
       "      <th>Lake Area</th>\n",
       "    </tr>\n",
       "  </thead>\n",
       "  <tbody>\n",
       "    <tr>\n",
       "      <th>68</th>\n",
       "      <td>R</td>\n",
       "      <td>Russia</td>\n",
       "      <td>Caspian Sea</td>\n",
       "      <td>386400.0</td>\n",
       "    </tr>\n",
       "  </tbody>\n",
       "</table>\n",
       "</div>"
      ],
      "text/plain": [
       "   Country Country Code    Lake Name  Lake Area\n",
       "68       R       Russia  Caspian Sea   386400.0"
      ]
     },
     "execution_count": 530,
     "metadata": {},
     "output_type": "execute_result"
    }
   ],
   "source": [
    "lake_df= {}\n",
    "#Translate list to DataFrame:\n",
    "lake_df=pd.DataFrame.from_records(lake_list,columns=['Country','Country Code','Lake Name', 'Lake Area'])\n",
    "lake_df.sort_values('Lake Area', ascending=False).head(1)"
   ]
  },
  {
   "cell_type": "markdown",
   "metadata": {},
   "source": [
    "# c) airport at highest elevation"
   ]
  },
  {
   "cell_type": "code",
   "execution_count": 531,
   "metadata": {
    "scrolled": false
   },
   "outputs": [],
   "source": [
    "airport_list=[]\n",
    "airport_dict={}\n",
    "for airport in root.iterfind('airport'):\n",
    "    airport_country_code = airport.attrib['country']\n",
    "    airport_name = airport.find('name').text\n",
    "    airport_elevation = airport.find('elevation').text\n",
    "    if airport_elevation != None:\n",
    "        airport_elevation = float(airport_elevation)\n",
    "        airport_list.append([airport_country_code,country_dict[airport_country_code],airport_name,airport_elevation])\n",
    "\n",
    "#print(airport_list[0])"
   ]
  },
  {
   "cell_type": "code",
   "execution_count": 532,
   "metadata": {},
   "outputs": [
    {
     "data": {
      "text/html": [
       "<div>\n",
       "<style>\n",
       "    .dataframe thead tr:only-child th {\n",
       "        text-align: right;\n",
       "    }\n",
       "\n",
       "    .dataframe thead th {\n",
       "        text-align: left;\n",
       "    }\n",
       "\n",
       "    .dataframe tbody tr th {\n",
       "        vertical-align: top;\n",
       "    }\n",
       "</style>\n",
       "<table border=\"1\" class=\"dataframe\">\n",
       "  <thead>\n",
       "    <tr style=\"text-align: right;\">\n",
       "      <th></th>\n",
       "      <th>Country Code</th>\n",
       "      <th>Country</th>\n",
       "      <th>Airport Name</th>\n",
       "      <th>Airport Elevation</th>\n",
       "    </tr>\n",
       "  </thead>\n",
       "  <tbody>\n",
       "    <tr>\n",
       "      <th>80</th>\n",
       "      <td>BOL</td>\n",
       "      <td>Bolivia</td>\n",
       "      <td>El Alto Intl</td>\n",
       "      <td>4063.0</td>\n",
       "    </tr>\n",
       "  </tbody>\n",
       "</table>\n",
       "</div>"
      ],
      "text/plain": [
       "   Country Code  Country  Airport Name  Airport Elevation\n",
       "80          BOL  Bolivia  El Alto Intl             4063.0"
      ]
     },
     "execution_count": 532,
     "metadata": {},
     "output_type": "execute_result"
    }
   ],
   "source": [
    "airport_dict=pd.DataFrame.from_records(airport_list,columns=['Country Code', 'Country', 'Airport Name', 'Airport Elevation'])\n",
    "airport_dict.sort_values('Airport Elevation',ascending=False).head(1)\n"
   ]
  }
 ],
 "metadata": {
  "kernelspec": {
   "display_name": "Python 3",
   "language": "python",
   "name": "python3"
  },
  "language_info": {
   "codemirror_mode": {
    "name": "ipython",
    "version": 3
   },
   "file_extension": ".py",
   "mimetype": "text/x-python",
   "name": "python",
   "nbconvert_exporter": "python",
   "pygments_lexer": "ipython3",
   "version": "3.6.1"
  }
 },
 "nbformat": 4,
 "nbformat_minor": 1
}
